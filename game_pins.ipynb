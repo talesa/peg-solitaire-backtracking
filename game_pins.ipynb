{
 "cells": [
  {
   "cell_type": "code",
   "execution_count": 4,
   "metadata": {
    "collapsed": true
   },
   "outputs": [],
   "source": [
    "import numpy as np"
   ]
  },
  {
   "cell_type": "markdown",
   "metadata": {},
   "source": [
    "#### Necessary functions"
   ]
  },
  {
   "cell_type": "code",
   "execution_count": 37,
   "metadata": {
    "collapsed": false
   },
   "outputs": [],
   "source": [
    "def createBoard():\n",
    "    board = np.flipud(np.tril(np.ones((5,5), dtype=bool)))\n",
    "    board[0][0] = False\n",
    "    return board\n",
    "    \n",
    "#     x y \n",
    "#     0 4\n",
    "#     1 3\n",
    "#     2 2\n",
    "#     3 1\n",
    "#     4 0\n",
    "def isPin(board, x, y):\n",
    "    # if queried outside of the board just return True\n",
    "    if(x < 0 or x > 4 or y < 0 or y > 4 - x):\n",
    "        return True\n",
    "    return board[x][y]\n",
    "    \n",
    "def generatePossibleMovesForField(board, x, y):\n",
    "    # 6 directions: +x, -x, +y, -y, +xy, -xy\n",
    "    possibleMoves = list()\n",
    "\n",
    "    # if position to check is empty\n",
    "    if not isPin(board,x,y):\n",
    "        return possibleMoves\n",
    "\n",
    "    # not clause comes first because the odds are \n",
    "    # that we are going to make a lot of comparisons \n",
    "    # outside of the board so it will be more efficient\n",
    "\n",
    "    # +x\n",
    "    if(not isPin(board,x+2, y) and isPin(board,x+1, y)):\n",
    "        possibleMoves.append((x,y,x+2,y))\n",
    "    # -x\n",
    "    if(not isPin(board,x-2, y) and isPin(board,x-1, y)):\n",
    "        possibleMoves.append((x,y,x-2,y))\n",
    "    # +y\n",
    "    if(not isPin(board,x, y+2) and isPin(board,x, y+1)):\n",
    "        possibleMoves.append((x,y,x,y+2))\n",
    "    # -y\n",
    "    if(not isPin(board,x, y-2) and isPin(board,x, y-1)):\n",
    "        possibleMoves.append((x,y,x,y-2))\n",
    "    # +x-y\n",
    "    if(not isPin(board,x+2, y-2) and isPin(board,x+1, y-1)):\n",
    "        possibleMoves.append((x,y,x+2,y-2))\n",
    "    # -x+y\n",
    "    if(not isPin(board,x-2, y+2) and isPin(board,x-1, y+1)):\n",
    "        possibleMoves.append((x,y,x-2,y+2))\n",
    "\n",
    "    return possibleMoves\n",
    "\n",
    "def generateAllPossibleMovesForBoard(board):\n",
    "    possibleMoves = list()\n",
    "\n",
    "    for x in xrange(5):\n",
    "        for y in xrange(5-x):\n",
    "            possibleMoves += generatePossibleMovesForField(board, x, y)\n",
    "\n",
    "    return possibleMoves\n",
    "\n",
    "def makeMove(board, x, y, xx, yy):\n",
    "    board = board.copy()\n",
    "    if not isPin(board,x,y) or not isPin(board,(x+xx)/2,(y+yy)/2) or isPin(board,xx, yy):\n",
    "        raise Exception('Invalid move x={} y={} xx={} yy={}'.format(x, y, xx, yy))\n",
    "        return None\n",
    "    board[x][y] = False\n",
    "    board[(x+xx)/2][(y+yy)/2] = False\n",
    "    board[xx][yy] = True\n",
    "    return board"
   ]
  },
  {
   "cell_type": "code",
   "execution_count": 28,
   "metadata": {
    "collapsed": false
   },
   "outputs": [],
   "source": [
    "def bt(c, count, boards):\n",
    "#     print(c.astype(int))\n",
    "\n",
    "    boards = list(boards)\n",
    "\n",
    "    boards.append(c)\n",
    "\n",
    "#     if count % 100 == 0: \n",
    "#         print count\n",
    "    \n",
    "    possibleMoves = generateAllPossibleMovesForBoard(c)\n",
    "    \n",
    "    if np.sum(c) == 1: \n",
    "        print('MADE IT')\n",
    "        return (True, count + 1, boards)\n",
    "    \n",
    "    if not possibleMoves: return (False, count + 1, boards)\n",
    "    \n",
    "    for possibleMove in possibleMoves:\n",
    "        s = makeMove(c, *possibleMove)\n",
    "        isWin, count, winningBoards = bt(s, count, boards)\n",
    "        \n",
    "        if isWin:\n",
    "            return (True, count + 1, winningBoards)\n",
    "    \n",
    "    return (False, count + 1, boards)"
   ]
  },
  {
   "cell_type": "markdown",
   "metadata": {},
   "source": [
    "#### Solution"
   ]
  },
  {
   "cell_type": "code",
   "execution_count": 36,
   "metadata": {
    "collapsed": false
   },
   "outputs": [
    {
     "name": "stdout",
     "output_type": "stream",
     "text": [
      "MADE IT\n",
      "Steps to win: 354\n",
      "[[0 1 1 1 1]\n",
      " [1 1 1 1 0]\n",
      " [1 1 1 0 0]\n",
      " [1 1 0 0 0]\n",
      " [1 0 0 0 0]]\n",
      "\n",
      "[[1 0 0 1 1]\n",
      " [1 1 1 1 0]\n",
      " [1 1 1 0 0]\n",
      " [1 1 0 0 0]\n",
      " [1 0 0 0 0]]\n",
      "\n",
      "[[1 0 1 0 0]\n",
      " [1 1 1 1 0]\n",
      " [1 1 1 0 0]\n",
      " [1 1 0 0 0]\n",
      " [1 0 0 0 0]]\n",
      "\n",
      "[[1 1 1 0 0]\n",
      " [1 0 1 1 0]\n",
      " [1 0 1 0 0]\n",
      " [1 1 0 0 0]\n",
      " [1 0 0 0 0]]\n",
      "\n",
      "[[1 0 0 1 0]\n",
      " [1 0 1 1 0]\n",
      " [1 0 1 0 0]\n",
      " [1 1 0 0 0]\n",
      " [1 0 0 0 0]]\n",
      "\n",
      "[[1 0 0 1 0]\n",
      " [1 1 0 0 0]\n",
      " [1 0 1 0 0]\n",
      " [1 1 0 0 0]\n",
      " [1 0 0 0 0]]\n",
      "\n",
      "[[1 0 0 1 0]\n",
      " [0 0 1 0 0]\n",
      " [1 0 1 0 0]\n",
      " [1 1 0 0 0]\n",
      " [1 0 0 0 0]]\n",
      "\n",
      "[[1 0 0 0 0]\n",
      " [0 0 0 0 0]\n",
      " [1 1 1 0 0]\n",
      " [1 1 0 0 0]\n",
      " [1 0 0 0 0]]\n",
      "\n",
      "[[1 0 0 0 0]\n",
      " [1 0 0 0 0]\n",
      " [0 1 1 0 0]\n",
      " [0 1 0 0 0]\n",
      " [1 0 0 0 0]]\n",
      "\n",
      "[[0 0 0 0 0]\n",
      " [0 0 0 0 0]\n",
      " [1 1 1 0 0]\n",
      " [0 1 0 0 0]\n",
      " [1 0 0 0 0]]\n",
      "\n",
      "[[0 0 0 0 0]\n",
      " [0 0 0 1 0]\n",
      " [1 1 0 0 0]\n",
      " [0 0 0 0 0]\n",
      " [1 0 0 0 0]]\n",
      "\n",
      "[[0 0 0 0 0]\n",
      " [0 0 0 1 0]\n",
      " [0 0 1 0 0]\n",
      " [0 0 0 0 0]\n",
      " [1 0 0 0 0]]\n",
      "\n",
      "[[0 0 0 0 0]\n",
      " [0 0 0 0 0]\n",
      " [0 0 0 0 0]\n",
      " [0 1 0 0 0]\n",
      " [1 0 0 0 0]]\n",
      "\n",
      "[[0 0 0 0 0]\n",
      " [0 0 0 0 0]\n",
      " [0 0 1 0 0]\n",
      " [0 0 0 0 0]\n",
      " [0 0 0 0 0]]\n",
      "\n"
     ]
    }
   ],
   "source": [
    "board = createBoard()\n",
    "isWin, count, winningBoards = bt(board,0,[])\n",
    "\n",
    "print('Steps to win: {}'.format(count))\n",
    "\n",
    "for b in winningBoards:\n",
    "    print b.astype(int)\n",
    "    print('')"
   ]
  },
  {
   "cell_type": "markdown",
   "metadata": {},
   "source": [
    "#### Tests"
   ]
  },
  {
   "cell_type": "code",
   "execution_count": 35,
   "metadata": {
    "collapsed": false
   },
   "outputs": [
    {
     "name": "stdout",
     "output_type": "stream",
     "text": [
      "MADE IT\n",
      "4\n",
      "[[1 0 1 1 0]\n",
      " [0 0 0 0 0]\n",
      " [0 0 0 0 0]\n",
      " [0 0 0 0 0]\n",
      " [0 0 0 0 0]]\n",
      "[[1 1 0 0 0]\n",
      " [0 0 0 0 0]\n",
      " [0 0 0 0 0]\n",
      " [0 0 0 0 0]\n",
      " [0 0 0 0 0]]\n",
      "[[0 0 1 0 0]\n",
      " [0 0 0 0 0]\n",
      " [0 0 0 0 0]\n",
      " [0 0 0 0 0]\n",
      " [0 0 0 0 0]]\n"
     ]
    }
   ],
   "source": [
    "board = np.zeros((5,5), dtype=bool)\n",
    "board[0][0] = 1\n",
    "board[0][2] = 1\n",
    "board[0][3] = 1\n",
    "isWin, count, winningBoards = bt(board,0,[])\n",
    "\n",
    "print(count)\n",
    "for b in winningBoards:\n",
    "    print b.astype(int)"
   ]
  },
  {
   "cell_type": "code",
   "execution_count": 31,
   "metadata": {
    "collapsed": false
   },
   "outputs": [
    {
     "name": "stdout",
     "output_type": "stream",
     "text": [
      "[[0 1 1 1 1]\n",
      " [1 1 1 1 0]\n",
      " [1 1 1 0 0]\n",
      " [1 1 0 0 0]\n",
      " [1 0 0 0 0]]\n",
      "(0, 2, 0, 0)\n",
      "[[1 0 0 1 1]\n",
      " [1 1 1 1 0]\n",
      " [1 1 1 0 0]\n",
      " [1 1 0 0 0]\n",
      " [1 0 0 0 0]]\n"
     ]
    }
   ],
   "source": [
    "board = createBoard()\n",
    "print(board.astype(int))\n",
    "print(generateAllPossibleMovesForBoard(board)[0])\n",
    "board = makeMove(board, *generateAllPossibleMovesForBoard(board)[0])# 0, 2, 0, 0)\n",
    "print(board.astype(int))"
   ]
  },
  {
   "cell_type": "code",
   "execution_count": 32,
   "metadata": {
    "collapsed": false,
    "scrolled": true
   },
   "outputs": [
    {
     "name": "stdout",
     "output_type": "stream",
     "text": [
      "[[0 1 1 1 1]\n",
      " [1 1 1 1 0]\n",
      " [1 1 1 0 0]\n",
      " [1 1 0 0 0]\n",
      " [1 0 0 0 0]]\n"
     ]
    },
    {
     "data": {
      "text/plain": [
       "[(2, 0, 0, 0)]"
      ]
     },
     "execution_count": 32,
     "metadata": {},
     "output_type": "execute_result"
    }
   ],
   "source": [
    "board = createBoard()\n",
    "print(board.astype(int))\n",
    "generatePossibleMovesForField(board, 2,0)"
   ]
  },
  {
   "cell_type": "code",
   "execution_count": 33,
   "metadata": {
    "collapsed": false,
    "scrolled": true
   },
   "outputs": [
    {
     "name": "stdout",
     "output_type": "stream",
     "text": [
      "[[1 1 1 1 1]\n",
      " [1 1 1 1 0]\n",
      " [1 1 1 0 0]\n",
      " [1 0 0 0 0]\n",
      " [1 0 0 0 0]]\n"
     ]
    },
    {
     "data": {
      "text/plain": [
       "[(1, 3, 3, 1)]"
      ]
     },
     "execution_count": 33,
     "metadata": {},
     "output_type": "execute_result"
    }
   ],
   "source": [
    "board = createBoard()\n",
    "board[0][0] = True\n",
    "board[3][1] = False\n",
    "print(board.astype(int))\n",
    "generatePossibleMovesForField(board,1,3)"
   ]
  },
  {
   "cell_type": "code",
   "execution_count": 26,
   "metadata": {
    "collapsed": false
   },
   "outputs": [
    {
     "name": "stdout",
     "output_type": "stream",
     "text": [
      "[[1 1 1 1 0]\n",
      " [1 1 1 1 0]\n",
      " [1 1 1 0 0]\n",
      " [1 1 0 0 0]\n",
      " [0 0 0 0 0]]\n"
     ]
    },
    {
     "data": {
      "text/plain": [
       "[(2, 2, 4, 0), (2, 2, 0, 4)]"
      ]
     },
     "execution_count": 26,
     "metadata": {},
     "output_type": "execute_result"
    }
   ],
   "source": [
    "board = createBoard()\n",
    "board[0][0] = True\n",
    "board[0][4] = False\n",
    "board[4][0] = False\n",
    "print(board.astype(int))\n",
    "generatePossibleMovesForField(board,2,2)"
   ]
  }
 ],
 "metadata": {
  "kernelspec": {
   "display_name": "Python 2",
   "language": "python",
   "name": "python2"
  },
  "language_info": {
   "codemirror_mode": {
    "name": "ipython",
    "version": 2
   },
   "file_extension": ".py",
   "mimetype": "text/x-python",
   "name": "python",
   "nbconvert_exporter": "python",
   "pygments_lexer": "ipython2",
   "version": "2.7.11"
  }
 },
 "nbformat": 4,
 "nbformat_minor": 0
}
